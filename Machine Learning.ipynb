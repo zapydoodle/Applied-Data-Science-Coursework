{
 "cells": [
  {
   "attachments": {},
   "cell_type": "markdown",
   "metadata": {},
   "source": [
    "# Imports and data read in "
   ]
  },
  {
   "cell_type": "code",
   "execution_count": 1,
   "metadata": {},
   "outputs": [],
   "source": [
    "from data_tools import extract_features, extract_labels\n",
    "import pandas as pd\n",
    "\n",
    "# Get dataframe\n",
    "data = pd.read_csv(\"Data.csv\")\n",
    "\n",
    "# Extract features\n",
    "features = extract_features(data)\n",
    "\n",
    "# Extract labels\n",
    "labels = extract_labels(data)"
   ]
  }
 ],
 "metadata": {
  "kernelspec": {
   "display_name": "Python 3",
   "language": "python",
   "name": "python3"
  },
  "language_info": {
   "codemirror_mode": {
    "name": "ipython",
    "version": 3
   },
   "file_extension": ".py",
   "mimetype": "text/x-python",
   "name": "python",
   "nbconvert_exporter": "python",
   "pygments_lexer": "ipython3",
   "version": "3.10.3"
  },
  "orig_nbformat": 4
 },
 "nbformat": 4,
 "nbformat_minor": 2
}
